{
 "cells": [
  {
   "cell_type": "code",
   "execution_count": 1,
   "id": "6586b975",
   "metadata": {},
   "outputs": [
    {
     "name": "stdout",
     "output_type": "stream",
     "text": [
      "Requirement already satisfied: pytrends in c:\\users\\loren\\anaconda3\\lib\\site-packages (4.9.2)\n",
      "Requirement already satisfied: lxml in c:\\users\\loren\\anaconda3\\lib\\site-packages (from pytrends) (4.8.0)\n",
      "Requirement already satisfied: pandas>=0.25 in c:\\users\\loren\\anaconda3\\lib\\site-packages (from pytrends) (1.4.2)\n",
      "Requirement already satisfied: requests>=2.0 in c:\\users\\loren\\anaconda3\\lib\\site-packages (from pytrends) (2.27.1)\n",
      "Requirement already satisfied: numpy>=1.18.5 in c:\\users\\loren\\anaconda3\\lib\\site-packages (from pandas>=0.25->pytrends) (1.21.5)\n",
      "Requirement already satisfied: pytz>=2020.1 in c:\\users\\loren\\anaconda3\\lib\\site-packages (from pandas>=0.25->pytrends) (2021.3)\n",
      "Requirement already satisfied: python-dateutil>=2.8.1 in c:\\users\\loren\\anaconda3\\lib\\site-packages (from pandas>=0.25->pytrends) (2.8.2)\n",
      "Requirement already satisfied: six>=1.5 in c:\\users\\loren\\anaconda3\\lib\\site-packages (from python-dateutil>=2.8.1->pandas>=0.25->pytrends) (1.16.0)\n",
      "Requirement already satisfied: urllib3<1.27,>=1.21.1 in c:\\users\\loren\\anaconda3\\lib\\site-packages (from requests>=2.0->pytrends) (1.26.9)\n",
      "Requirement already satisfied: certifi>=2017.4.17 in c:\\users\\loren\\anaconda3\\lib\\site-packages (from requests>=2.0->pytrends) (2021.10.8)\n",
      "Requirement already satisfied: idna<4,>=2.5 in c:\\users\\loren\\anaconda3\\lib\\site-packages (from requests>=2.0->pytrends) (3.3)\n",
      "Requirement already satisfied: charset-normalizer~=2.0.0 in c:\\users\\loren\\anaconda3\\lib\\site-packages (from requests>=2.0->pytrends) (2.0.4)\n"
     ]
    }
   ],
   "source": [
    "!pip install pytrends"
   ]
  },
  {
   "cell_type": "code",
   "execution_count": 1,
   "id": "edcbd2a3",
   "metadata": {},
   "outputs": [],
   "source": [
    "from pytrends.request import TrendReq\n",
    "import pandas as pd\n",
    "pytrends = TrendReq(hl='en-US', tz=360)\n",
    "keyword = 'Bitcoin'\n",
    "timeframe = '2021-12-25 2023-01-06'\n",
    "#lo faccio non esattamente nel 2022 ma un po prima e un po dopo per poter avere anche\n",
    "#le osservazioni dei giorni agli estremi che magari hanno valori mancanti dato che fanno parte \n",
    "#di una settimana che è per metà in un altro anno\n",
    "\n",
    "pytrends.build_payload([keyword], cat=0, timeframe=timeframe, geo='', gprop='')\n",
    "\n",
    "data = pytrends.interest_over_time()\n",
    "\n"
   ]
  },
  {
   "cell_type": "code",
   "execution_count": 39,
   "id": "fadf98be",
   "metadata": {},
   "outputs": [],
   "source": [
    "#pulisco tenendo solo i dati relativi al 2022 \n",
    "# Filtra le osservazioni solo per l'anno 2022\n",
    "data_2022 = data.loc['2022-01-01':'2022-12-31']\n",
    "# Rimuovi i valori mancanti nel dataframe del 2022\n",
    "data_2022_cleaned = data_2022.dropna()"
   ]
  },
  {
   "cell_type": "code",
   "execution_count": 40,
   "id": "f97cff26",
   "metadata": {},
   "outputs": [],
   "source": [
    "# RimuovO la colonna \"isPartial\" \n",
    "data_2022 = data_2022.drop(columns='isPartial')\n",
    "#salvo il file csv\n",
    "data_2022.to_csv('GOOGLETREND.csv')"
   ]
  },
  {
   "cell_type": "code",
   "execution_count": 6,
   "id": "c2b9c408",
   "metadata": {},
   "outputs": [
    {
     "data": {
      "text/plain": [
       "54"
      ]
     },
     "execution_count": 6,
     "metadata": {},
     "output_type": "execute_result"
    }
   ],
   "source": [
    "len(data)"
   ]
  }
 ],
 "metadata": {
  "kernelspec": {
   "display_name": "Python 3 (ipykernel)",
   "language": "python",
   "name": "python3"
  },
  "language_info": {
   "codemirror_mode": {
    "name": "ipython",
    "version": 3
   },
   "file_extension": ".py",
   "mimetype": "text/x-python",
   "name": "python",
   "nbconvert_exporter": "python",
   "pygments_lexer": "ipython3",
   "version": "3.9.12"
  }
 },
 "nbformat": 4,
 "nbformat_minor": 5
}
